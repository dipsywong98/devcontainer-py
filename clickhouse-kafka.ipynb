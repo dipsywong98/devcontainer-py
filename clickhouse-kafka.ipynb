{
 "cells": [
  {
   "cell_type": "code",
   "execution_count": 1,
   "metadata": {},
   "outputs": [],
   "source": [
    "from clickhouse_driver import Client\n",
    "\n",
    "client = Client(\n",
    "    host='clickhouse',\n",
    "    port=9000,\n",
    "    user='default',\n",
    "    password='',\n",
    "    database='default'\n",
    ")"
   ]
  },
  {
   "cell_type": "code",
   "execution_count": 12,
   "metadata": {},
   "outputs": [
    {
     "data": {
      "text/plain": [
       "[]"
      ]
     },
     "execution_count": 12,
     "metadata": {},
     "output_type": "execute_result"
    }
   ],
   "source": [
    "sql = \"\"\"\n",
    "    SELECT * FROM target_table\n",
    "\"\"\"\n",
    "\n",
    "client.execute(sql)\n"
   ]
  },
  {
   "cell_type": "code",
   "execution_count": 4,
   "metadata": {},
   "outputs": [],
   "source": [
    "from kafka import KafkaProducer\n",
    "import json\n",
    "import time\n",
    "import random\n",
    "\n",
    "# Initialize the producer\n",
    "producer = KafkaProducer(\n",
    "    bootstrap_servers='kafka:9092',\n",
    "    value_serializer=lambda v: json.dumps(v).encode('utf-8')\n",
    ")\n"
   ]
  },
  {
   "cell_type": "code",
   "execution_count": 11,
   "metadata": {},
   "outputs": [
    {
     "name": "stdout",
     "output_type": "stream",
     "text": [
      "Sent: {'id': 1, 'name': 'name1', 'timestamp': '2024-01-01 00:00:00'}\n"
     ]
    }
   ],
   "source": [
    "def send_message(topic, message):\n",
    "    producer.send(topic, message)\n",
    "    producer.flush()\n",
    "    print(f'Sent: {message}')\n",
    "\n",
    "# Send a message\n",
    "\n",
    "send_message('your_topic_name', {'id': 1, 'name': \"name1\", 'timestamp': \"2024-01-01 00:00:00\"})\n"
   ]
  }
 ],
 "metadata": {
  "kernelspec": {
   "display_name": ".venv",
   "language": "python",
   "name": "python3"
  },
  "language_info": {
   "codemirror_mode": {
    "name": "ipython",
    "version": 3
   },
   "file_extension": ".py",
   "mimetype": "text/x-python",
   "name": "python",
   "nbconvert_exporter": "python",
   "pygments_lexer": "ipython3",
   "version": "3.12.7"
  }
 },
 "nbformat": 4,
 "nbformat_minor": 2
}
